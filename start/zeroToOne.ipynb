{
 "cells": [
  {
   "cell_type": "code",
   "execution_count": 40,
   "outputs": [
    {
     "name": "stdout",
     "output_type": "stream",
     "text": [
      "hello world\n"
     ]
    }
   ],
   "source": [
    "print(\"hello world\")"
   ],
   "metadata": {
    "collapsed": false,
    "ExecuteTime": {
     "end_time": "2025-08-31T03:44:44.192066800Z",
     "start_time": "2025-08-31T03:44:44.186083400Z"
    }
   }
  },
  {
   "cell_type": "code",
   "execution_count": 41,
   "outputs": [],
   "source": [
    "import torch\n",
    "import torch.nn as nn\n",
    "import torch.optim as optim\n",
    "from torchvision import datasets,transforms\n",
    "from torch.utils.data import DataLoader\n",
    "from tqdm import tqdm\n",
    "import matplotlib.pyplot as plt"
   ],
   "metadata": {
    "collapsed": false,
    "ExecuteTime": {
     "end_time": "2025-08-31T03:44:44.245921900Z",
     "start_time": "2025-08-31T03:44:44.189074500Z"
    }
   }
  },
  {
   "cell_type": "code",
   "execution_count": 42,
   "outputs": [],
   "source": [
    "# extra para\n",
    "DEVICE=torch.device(\"cuda\" if torch.cuda.is_available() else \"cpu\")\n",
    "BATCH=64\n",
    "EPOCHS=3\n",
    "LR=1e-3"
   ],
   "metadata": {
    "collapsed": false,
    "ExecuteTime": {
     "end_time": "2025-08-31T03:44:44.257890500Z",
     "start_time": "2025-08-31T03:44:44.205033400Z"
    }
   }
  },
  {
   "cell_type": "code",
   "execution_count": 43,
   "outputs": [],
   "source": [
    "# data\n",
    "transform=transforms.Compose([\n",
    "    transforms.ToTensor(),\n",
    "    transforms.Normalize((0.1307,),(0.3081,))\n",
    "])\n",
    "train_ds = datasets.MNIST(root=\".\", train=True,  download=True, transform=transform)\n",
    "test_ds  = datasets.MNIST(root=\".\", train=False, download=True, transform=transform)\n",
    "train_dl=DataLoader(train_ds,batch_size=BATCH,shuffle=True)\n",
    "test_dl=DataLoader(test_ds,batch_size=BATCH)"
   ],
   "metadata": {
    "collapsed": false,
    "ExecuteTime": {
     "end_time": "2025-08-31T03:44:44.293794800Z",
     "start_time": "2025-08-31T03:44:44.220988400Z"
    }
   }
  },
  {
   "cell_type": "code",
   "execution_count": 44,
   "outputs": [],
   "source": [
    "class Net(nn.Module):\n",
    "    def __init__(self):\n",
    "        super().__init__(),\n",
    "        self.flatten=nn.Flatten()\n",
    "        self.fc=nn.Sequential(\n",
    "            nn.Linear(28*28,128),\n",
    "            nn.ReLU(),\n",
    "            nn.Linear(128,10)\n",
    "        )\n",
    "    def forward(self,x):\n",
    "        x=self.flatten(x)\n",
    "        return self.fc(x)\n",
    "model=Net().to(DEVICE)"
   ],
   "metadata": {
    "collapsed": false,
    "ExecuteTime": {
     "end_time": "2025-08-31T03:44:44.311746600Z",
     "start_time": "2025-08-31T03:44:44.299778100Z"
    }
   }
  },
  {
   "cell_type": "code",
   "execution_count": 45,
   "outputs": [],
   "source": [
    "# loss and optim\n",
    "criterion=nn.CrossEntropyLoss()\n",
    "optimizer=optim.Adam(model.parameters(),lr=LR)"
   ],
   "metadata": {
    "collapsed": false,
    "ExecuteTime": {
     "end_time": "2025-08-31T03:44:44.337680700Z",
     "start_time": "2025-08-31T03:44:44.313741100Z"
    }
   }
  },
  {
   "cell_type": "code",
   "execution_count": 46,
   "outputs": [],
   "source": [
    "def train(epoch):\n",
    "    model.train()\n",
    "    bar=tqdm(train_dl,desc=f\"Epoch{epoch}\")\n",
    "    for x,y in bar:\n",
    "        x,y=x.to(DEVICE),y.to(DEVICE)\n",
    "        pred=model(x)\n",
    "        loss=criterion(pred,y)\n",
    "\n",
    "        optimizer.zero_grad()\n",
    "        loss.backward()\n",
    "        optimizer.step()\n",
    "\n",
    "        bar.set_postfix(loss=loss.item())\n"
   ],
   "metadata": {
    "collapsed": false,
    "ExecuteTime": {
     "end_time": "2025-08-31T03:44:44.343661500Z",
     "start_time": "2025-08-31T03:44:44.328700400Z"
    }
   }
  },
  {
   "cell_type": "code",
   "execution_count": 47,
   "outputs": [],
   "source": [
    "#test\n",
    "def test():\n",
    "    model.eval()\n",
    "    correct=total=0\n",
    "    for x,y in test_dl:\n",
    "        x,y=x.to(DEVICE),y.to(DEVICE)\n",
    "        pred=model(x)\n",
    "        correct+=(pred.argmax(1)==y).sum().item()\n",
    "        total+=y.size(0)\n",
    "    print(f\"Test Acc:{correct/total:.2%}\")"
   ],
   "metadata": {
    "collapsed": false,
    "ExecuteTime": {
     "end_time": "2025-08-31T03:44:44.357623100Z",
     "start_time": "2025-08-31T03:44:44.347649800Z"
    }
   }
  },
  {
   "cell_type": "code",
   "execution_count": 48,
   "outputs": [
    {
     "name": "stderr",
     "output_type": "stream",
     "text": [
      "Epoch1: 100%|██████████| 938/938 [00:18<00:00, 49.84it/s, loss=0.121] \n"
     ]
    },
    {
     "name": "stdout",
     "output_type": "stream",
     "text": [
      "Test Acc:95.88%\n"
     ]
    },
    {
     "name": "stderr",
     "output_type": "stream",
     "text": [
      "Epoch2: 100%|██████████| 938/938 [00:18<00:00, 51.32it/s, loss=0.269]  \n"
     ]
    },
    {
     "name": "stdout",
     "output_type": "stream",
     "text": [
      "Test Acc:97.02%\n"
     ]
    },
    {
     "name": "stderr",
     "output_type": "stream",
     "text": [
      "Epoch3: 100%|██████████| 938/938 [00:18<00:00, 50.98it/s, loss=0.0521] \n"
     ]
    },
    {
     "name": "stdout",
     "output_type": "stream",
     "text": [
      "Test Acc:97.15%\n"
     ]
    }
   ],
   "source": [
    "# done\n",
    "for e in range(1,EPOCHS+1):\n",
    "    train(e)\n",
    "    test()"
   ],
   "metadata": {
    "collapsed": false,
    "ExecuteTime": {
     "end_time": "2025-08-31T03:45:47.573128800Z",
     "start_time": "2025-08-31T03:44:44.358620700Z"
    }
   }
  },
  {
   "cell_type": "code",
   "execution_count": 49,
   "outputs": [
    {
     "data": {
      "text/plain": "<Figure size 600x600 with 9 Axes>",
      "image/png": "[encoded data removed]"
     },
     "metadata": {},
     "output_type": "display_data"
    }
   ],
   "source": [
    "# show result\n",
    "model.eval()\n",
    "examples=enumerate(test_dl)\n",
    "batch_idx,(data,target)=next(examples)\n",
    "data,target=data[:9].to(DEVICE),target[:9]\n",
    "out=model(data)\n",
    "pred=out.argmax(dim=1).cpu()\n",
    "\n",
    "plt.figure(figsize=(6,6))\n",
    "for i in range(9):\n",
    "    plt.subplot(3,3,i+1)\n",
    "    plt.imshow(data[i].cpu().squeeze(), cmap='gray')\n",
    "    plt.title(f\"GT:{target[i]} Pred:{pred[i]}\")\n",
    "    plt.axis(\"off\")\n",
    "plt.tight_layout()\n",
    "plt.show()"
   ],
   "metadata": {
    "collapsed": false,
    "ExecuteTime": {
     "end_time": "2025-08-31T03:45:48.090743400Z",
     "start_time": "2025-08-31T03:45:47.576119800Z"
    }
   }
  },
  {
   "cell_type": "code",
   "execution_count": 49,
   "outputs": [],
   "source": [],
   "metadata": {
    "collapsed": false,
    "ExecuteTime": {
     "end_time": "2025-08-31T03:45:48.106700100Z",
     "start_time": "2025-08-31T03:45:48.091740500Z"
    }
   }
  }
 ],
 "metadata": {
  "kernelspec": {
   "display_name": "Python 3",
   "language": "python",
   "name": "python3"
  },
  "language_info": {
   "codemirror_mode": {
    "name": "ipython",
    "version": 2
   },
   "file_extension": ".py",
   "mimetype": "text/x-python",
   "name": "python",
   "nbconvert_exporter": "python",
   "pygments_lexer": "ipython2",
   "version": "2.7.6"
  }
 },
 "nbformat": 4,
 "nbformat_minor": 0
}
